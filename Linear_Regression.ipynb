{
  "nbformat": 4,
  "nbformat_minor": 0,
  "metadata": {
    "colab": {
      "name": "Linear Regression.ipynb",
      "version": "0.3.2",
      "provenance": []
    },
    "kernelspec": {
      "name": "python3",
      "display_name": "Python 3"
    },
    "accelerator": "GPU"
  },
  "cells": [
    {
      "cell_type": "code",
      "metadata": {
        "id": "6D4tnxSSO9h-",
        "colab_type": "code",
        "cellView": "code",
        "colab": {}
      },
      "source": [
        "import numpy as np\n",
        "import tensorflow as tf\n",
        "import matplotlib.patches as mpatches\n",
        "import matplotlib.pyplot as plt\n",
        "%matplotlib inline\n",
        "plt.rcParams['figure.figsize'] = (10,6)"
      ],
      "execution_count": 0,
      "outputs": []
    },
    {
      "cell_type": "code",
      "metadata": {
        "id": "3WBCr0KMPkaK",
        "colab_type": "code",
        "colab": {}
      },
      "source": [
        "x = np.arange(0.0,5.0,0.1)\n",
        "a,b = 1,0\n",
        "y = a*x+b"
      ],
      "execution_count": 0,
      "outputs": []
    },
    {
      "cell_type": "code",
      "metadata": {
        "id": "yUR9qbpXP9KI",
        "colab_type": "code",
        "outputId": "482d8548-f79f-47c7-8301-98464fa34d43",
        "colab": {
          "base_uri": "https://localhost:8080/",
          "height": 392
        }
      },
      "source": [
        "plt.plot(x,y)\n",
        "plt.ylabel('Dependent Variable')\n",
        "plt.xlabel('Independent Variable')\n",
        "plt.show()"
      ],
      "execution_count": 0,
      "outputs": [
        {
          "output_type": "display_data",
          "data": {
            "image/png": "[encoded data removed]",
            "text/plain": [
              "<Figure size 720x432 with 1 Axes>"
            ]
          },
          "metadata": {
            "tags": []
          }
        }
      ]
    },
    {
      "cell_type": "code",
      "metadata": {
        "id": "gqbYGcp3QH3J",
        "colab_type": "code",
        "colab": {}
      },
      "source": [
        "x_data = np.random.rand(100).astype(np.float32)\n",
        "y_data = 3*x_data+2\n",
        "y_data = np.vectorize(lambda y:y+np.random.normal(loc=0.0,scale=0.1))(y_data)"
      ],
      "execution_count": 0,
      "outputs": []
    },
    {
      "cell_type": "code",
      "metadata": {
        "id": "Vpqbnj26QuiH",
        "colab_type": "code",
        "colab": {}
      },
      "source": [
        "a = tf.Variable(1.0)\n",
        "b = tf.Variable(0.2)\n",
        "y = a*x_data+b"
      ],
      "execution_count": 0,
      "outputs": []
    },
    {
      "cell_type": "code",
      "metadata": {
        "id": "CUpdWcE_Q2jW",
        "colab_type": "code",
        "colab": {}
      },
      "source": [
        "loss = tf.reduce_mean(tf.square(y-y_data))"
      ],
      "execution_count": 0,
      "outputs": []
    },
    {
      "cell_type": "code",
      "metadata": {
        "id": "AHR3kM34RCtI",
        "colab_type": "code",
        "colab": {}
      },
      "source": [
        "optimizer = tf.train.GradientDescentOptimizer(0.5)\n",
        "train = optimizer.minimize(loss)"
      ],
      "execution_count": 0,
      "outputs": []
    },
    {
      "cell_type": "code",
      "metadata": {
        "id": "3ICMzxdpRNjc",
        "colab_type": "code",
        "colab": {}
      },
      "source": [
        "init = tf.global_variables_initializer()\n",
        "sess = tf.Session()\n",
        "sess.run(init)"
      ],
      "execution_count": 0,
      "outputs": []
    },
    {
      "cell_type": "code",
      "metadata": {
        "id": "-XwVz2bcRYI5",
        "colab_type": "code",
        "outputId": "c0f9903c-b8b8-460a-e1f9-28d143098d09",
        "colab": {
          "base_uri": "https://localhost:8080/",
          "height": 353
        }
      },
      "source": [
        "train_data = []\n",
        "for step in range(100):\n",
        "  evals = sess.run([train,a,b])[1:]\n",
        "  if step%5 == 0:\n",
        "    print(step,\" \",evals)\n",
        "    train_data.append(evals)\n",
        "\n",
        "cr,cg,cb = (1.0,1.0,1.0)"
      ],
      "execution_count": 0,
      "outputs": [
        {
          "output_type": "stream",
          "text": [
            "0   [3.0245457, 1.9956994]\n",
            "5   [3.0245457, 1.9956994]\n",
            "10   [3.0245457, 1.9956994]\n",
            "15   [3.0245457, 1.9956994]\n",
            "20   [3.0245457, 1.9956994]\n",
            "25   [3.0245457, 1.9956994]\n",
            "30   [3.0245457, 1.9956994]\n",
            "35   [3.0245457, 1.9956994]\n",
            "40   [3.0245457, 1.9956994]\n",
            "45   [3.0245457, 1.9956994]\n",
            "50   [3.0245457, 1.9956994]\n",
            "55   [3.0245457, 1.9956994]\n",
            "60   [3.0245457, 1.9956994]\n",
            "65   [3.0245457, 1.9956994]\n",
            "70   [3.0245457, 1.9956994]\n",
            "75   [3.0245457, 1.9956994]\n",
            "80   [3.0245457, 1.9956994]\n",
            "85   [3.0245457, 1.9956994]\n",
            "90   [3.0245457, 1.9956994]\n",
            "95   [3.0245457, 1.9956994]\n"
          ],
          "name": "stdout"
        }
      ]
    },
    {
      "cell_type": "code",
      "metadata": {
        "id": "eclPhbgTR6mw",
        "colab_type": "code",
        "outputId": "0d67838a-5df0-4b56-f69a-0b899c987c25",
        "colab": {
          "base_uri": "https://localhost:8080/",
          "height": 378
        }
      },
      "source": [
        "for f in train_data:\n",
        "  cb += 1.0/len(train_data)\n",
        "  cg -= 1.0/len(train_data)\n",
        "  if cb > 1.0:\n",
        "    cb = 1.0\n",
        "  if cg < 0.0:\n",
        "    cg = 0.0\n",
        "  [a,b] = f\n",
        "  f_y = np.vectorize(lambda x:a*x+b)(x_data)\n",
        "  line = plt.plot(x_data,f_y)\n",
        "  plt.setp(line,color=(cr,cg,cb))"
      ],
      "execution_count": 0,
      "outputs": [
        {
          "output_type": "display_data",
          "data": {
            "image/png": "[encoded data removed]",
            "text/plain": [
              "<Figure size 720x432 with 1 Axes>"
            ]
          },
          "metadata": {
            "tags": []
          }
        }
      ]
    },
    {
      "cell_type": "code",
      "metadata": {
        "id": "0JSdq4UnS9JQ",
        "colab_type": "code",
        "outputId": "26b44482-0d3f-4cd6-abf5-66c3da8a476d",
        "colab": {
          "base_uri": "https://localhost:8080/",
          "height": 378
        }
      },
      "source": [
        "plt.plot(x_data,y_data,'ro')\n",
        "green_line = mpatches.Patch(color='red',label='Data Points')\n",
        "plt.legend(handles=[green_line])\n",
        "plt.show()"
      ],
      "execution_count": 0,
      "outputs": [
        {
          "output_type": "display_data",
          "data": {
            "image/png": "[encoded data removed]",
            "text/plain": [
              "<Figure size 720x432 with 1 Axes>"
            ]
          },
          "metadata": {
            "tags": []
          }
        }
      ]
    },
    {
      "cell_type": "code",
      "metadata": {
        "id": "xZDouO8pTQog",
        "colab_type": "code",
        "colab": {}
      },
      "source": [
        ""
      ],
      "execution_count": 0,
      "outputs": []
    }
  ]
}